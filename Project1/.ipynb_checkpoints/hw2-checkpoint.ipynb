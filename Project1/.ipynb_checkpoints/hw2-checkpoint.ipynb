{
 "cells": [
  {
   "cell_type": "code",
   "execution_count": 1,
   "metadata": {},
   "outputs": [],
   "source": [
    "import numpy as np\n",
    "import math\n",
    "import pandas as pd\n",
    "import matplotlib.pyplot as plt\n",
    "import seaborn as sns\n",
    "sns.set()#set_style(\"dark\")"
   ]
  },
  {
   "cell_type": "code",
   "execution_count": 3,
   "metadata": {},
   "outputs": [],
   "source": [
    "a = []\n",
    "a.append([2.5, 1.6, 5.9])\n",
    "a.append([7.2, 4.3, 2.1])\n",
    "a.append([3.4, 5.8, 1.6])\n",
    "a.append([5.6, 3.6, 6.8])\n",
    "a.append([4.8, 7.2, 3.1])\n",
    "a.append([8.1, 4.9, 8.3])\n",
    "a.append([6.3, 4.8, 2.4])\n",
    "a = np.array(a)"
   ]
  },
  {
   "cell_type": "code",
   "execution_count": 4,
   "metadata": {},
   "outputs": [],
   "source": [
    "targs = [0,1,1,0,1,0,1]"
   ]
  },
  {
   "cell_type": "code",
   "execution_count": 5,
   "metadata": {},
   "outputs": [
    {
     "data": {
      "text/plain": [
       "array([[2.5, 1.6, 5.9],\n",
       "       [7.2, 4.3, 2.1],\n",
       "       [3.4, 5.8, 1.6],\n",
       "       [5.6, 3.6, 6.8],\n",
       "       [4.8, 7.2, 3.1],\n",
       "       [8.1, 4.9, 8.3],\n",
       "       [6.3, 4.8, 2.4]])"
      ]
     },
     "execution_count": 5,
     "metadata": {},
     "output_type": "execute_result"
    }
   ],
   "source": [
    "a"
   ]
  },
  {
   "cell_type": "code",
   "execution_count": 6,
   "metadata": {},
   "outputs": [
    {
     "data": {
      "text/plain": [
       "array([5.9, 2.1, 1.6, 6.8, 3.1, 8.3, 2.4])"
      ]
     },
     "execution_count": 6,
     "metadata": {},
     "output_type": "execute_result"
    }
   ],
   "source": [
    "a[:,2]"
   ]
  },
  {
   "cell_type": "code",
   "execution_count": 7,
   "metadata": {},
   "outputs": [
    {
     "data": {
      "text/plain": [
       "1.6"
      ]
     },
     "execution_count": 7,
     "metadata": {},
     "output_type": "execute_result"
    }
   ],
   "source": [
    "a[:,1][0]"
   ]
  },
  {
   "cell_type": "code",
   "execution_count": 8,
   "metadata": {},
   "outputs": [],
   "source": [
    "A0 = []\n",
    "B0 = []\n",
    "\n",
    "A1 = []\n",
    "B1 = []\n",
    "\n",
    "A2 = []\n",
    "B2 = []\n",
    "\n",
    "for i, targ in enumerate(targs):\n",
    "    if targ == 0:\n",
    "        A0.append(a[:,0][i])\n",
    "        A1.append(a[:,1][i])\n",
    "        A2.append(a[:,2][i])\n",
    "    else:\n",
    "        B0.append(a[:,0][i])\n",
    "        B1.append(a[:,1][i])\n",
    "        B2.append(a[:,2][i])"
   ]
  },
  {
   "cell_type": "code",
   "execution_count": null,
   "metadata": {},
   "outputs": [],
   "source": []
  },
  {
   "cell_type": "code",
   "execution_count": 9,
   "metadata": {},
   "outputs": [
    {
     "data": {
      "text/plain": [
       "[7.427485026503828, 2.249249097997478, 0.016577179105925148]"
      ]
     },
     "execution_count": 9,
     "metadata": {},
     "output_type": "execute_result"
    }
   ],
   "source": [
    "varA0, varB0 = np.var(A0), np.var(B0)\n",
    "varA1, varB1 = np.var(A1), np.var(B1)\n",
    "varA2, varB2 = np.var(A2), np.var(B2)\n",
    "\n",
    "r0 = (varA0/len(A0)) + (varB0/len(B0))\n",
    "r1 = (varA1/len(A1)) + (varB1/len(B1))\n",
    "r2 = (varA2/len(A2)) + (varB2/len(B2))\n",
    "\n",
    "SE0 = math.sqrt(r0)\n",
    "SE1 = math.sqrt(r1)\n",
    "SE2 = math.sqrt(r2)\n",
    "\n",
    "s0 =  abs(np.array(A0).mean() - np.array(B0).mean())\n",
    "s1 =  abs(np.array(A1).mean() - np.array(B1).mean())\n",
    "s2 =  abs(np.array(A2).mean() - np.array(B2).mean())\n",
    "\n",
    "rank0 = s0/SE0\n",
    "rank1 = s1/SE1\n",
    "rank2 = s2/SE2\n",
    "\n",
    "sorted([rank0, rank1, rank2], reverse=True)"
   ]
  },
  {
   "cell_type": "markdown",
   "metadata": {},
   "source": [
    "## Relief"
   ]
  },
  {
   "cell_type": "code",
   "execution_count": 38,
   "metadata": {},
   "outputs": [],
   "source": [
    "b = []\n",
    "b.append([2.7, 3.4, 1])\n",
    "b.append([3.1, 6.2, 2])\n",
    "b.append([4.5, 2.8, 1])\n",
    "b.append([5.3, 5.8, 2])\n",
    "b.append([6.6, 3.1, 1])\n",
    "b.append([5.0, 4.1, 2])\n",
    "# b = np.array(b)"
   ]
  },
  {
   "cell_type": "code",
   "execution_count": 39,
   "metadata": {},
   "outputs": [],
   "source": [
    "b = []\n",
    "b.append([2.7, 3.4, 1, 'A'])\n",
    "b.append([3.1, 6.2, 2, 'A'])\n",
    "b.append([4.5, 2.8, 1, 'B'])\n",
    "b.append([5.3, 5.8, 2, 'B'])\n",
    "b.append([6.6, 3.1, 1, 'A'])\n",
    "b.append([5.0, 4.1, 2, 'B'])"
   ]
  },
  {
   "cell_type": "code",
   "execution_count": 20,
   "metadata": {},
   "outputs": [],
   "source": [
    "targets = ['A','A','B','B','A','B']"
   ]
  },
  {
   "cell_type": "code",
   "execution_count": 19,
   "metadata": {},
   "outputs": [
    {
     "data": {
      "text/plain": [
       "array([[2.7, 3.4, 1. ],\n",
       "       [3.1, 6.2, 2. ],\n",
       "       [4.5, 2.8, 1. ],\n",
       "       [5.3, 5.8, 2. ],\n",
       "       [6.6, 3.1, 1. ],\n",
       "       [5. , 4.1, 2. ]])"
      ]
     },
     "execution_count": 19,
     "metadata": {},
     "output_type": "execute_result"
    }
   ],
   "source": [
    "b"
   ]
  },
  {
   "cell_type": "code",
   "execution_count": 16,
   "metadata": {},
   "outputs": [
    {
     "data": {
      "text/plain": [
       "[0, 1, 2]"
      ]
     },
     "execution_count": 16,
     "metadata": {},
     "output_type": "execute_result"
    }
   ],
   "source": [
    "list(range(0,3))"
   ]
  },
  {
   "cell_type": "code",
   "execution_count": 40,
   "metadata": {},
   "outputs": [],
   "source": [
    "def distance(a, b):\n",
    "    x1, y1, z1 = a[0], a[1], a[2]\n",
    "    x2, y2, z2 = b[0], b[1], b[2]\n",
    "    d = math.sqrt(math.pow((x2 - x1), 2) + math.pow((y2 - y1),2) + math.pow((z2 - z1), 2))/2\n",
    "    return d"
   ]
  },
  {
   "cell_type": "code",
   "execution_count": 41,
   "metadata": {},
   "outputs": [],
   "source": [
    "def qualityScore(X, H, M, m):\n",
    "    quality = (-math.pow((X-H), 2) + math.pow((X-M), 2))/m\n",
    "    return quality"
   ]
  },
  {
   "cell_type": "code",
   "execution_count": 42,
   "metadata": {},
   "outputs": [],
   "source": [
    "def relief(b):\n",
    "    ## b is the dataset like [2.7, 3.4, 1, 'A']\n",
    "    Wajs = []\n",
    "    for m, sample in enumerate(b):\n",
    "        Waj = 0.0\n",
    "        \n",
    "        nearestH, nearestM = [], []\n",
    "        hits, misses = [], []\n",
    "        distsH, distsM = [], []\n",
    "\n",
    "        Xclass = targets[m]\n",
    "        \n",
    "        ## remove the subset of features from the elements we want\n",
    "        ## to find the nearest hit/miss from\n",
    "        samplesMinusX = b.copy()\n",
    "        samplesMinusX.remove(sample)\n",
    "        \n",
    "        \n",
    "        ## get each hist/miss and calculate the distances for each\n",
    "        ## with the sample under consideration\n",
    "        for sample2 in samplesMinusX:\n",
    "            if sample[len(sample)-1] == sample2[len(sample2)-1]:\n",
    "                hits.append(sample2)\n",
    "                distsH.append(distance(sample, sample2))\n",
    "            else:\n",
    "                misses.append(sample2)\n",
    "                distsM.append(distance(sample, sample2))\n",
    "\n",
    "        \n",
    "        ## get the nearest hit and miss\n",
    "        nearestH = hits[min(range(len(distsH)), key=distsH.__getitem__)]\n",
    "        nearestM = misses[min(range(len(distsM)), key=distsM.__getitem__)]\n",
    "\n",
    "\n",
    "        ## feature wise quality update \n",
    "        for i in range(0,3):\n",
    "            Waj += qualityScore(sample[i], nearestH[i], nearestM[i], m+1)\n",
    "\n",
    "        Wajs.append(Waj)\n",
    "        print(m)\n",
    "    return Wajs"
   ]
  },
  {
   "cell_type": "code",
   "execution_count": 43,
   "metadata": {},
   "outputs": [
    {
     "name": "stdout",
     "output_type": "stream",
     "text": [
      "0\n",
      "1\n",
      "2\n",
      "3\n",
      "4\n",
      "5\n"
     ]
    },
    {
     "data": {
      "text/plain": [
       "[-5.400000000000002,\n",
       " -2.0000000000000013,\n",
       " 0.22000000000000003,\n",
       " 0.5049999999999997,\n",
       " -2.1599999999999993,\n",
       " 0.26999999999999974]"
      ]
     },
     "execution_count": 43,
     "metadata": {},
     "output_type": "execute_result"
    }
   ],
   "source": [
    "relief(b)"
   ]
  },
  {
   "cell_type": "code",
   "execution_count": null,
   "metadata": {},
   "outputs": [],
   "source": []
  },
  {
   "cell_type": "code",
   "execution_count": null,
   "metadata": {},
   "outputs": [],
   "source": []
  },
  {
   "cell_type": "markdown",
   "metadata": {},
   "source": [
    "## ChiMerge"
   ]
  },
  {
   "cell_type": "code",
   "execution_count": 50,
   "metadata": {},
   "outputs": [],
   "source": [
    "c,d = [], []\n",
    "c.append([2.7, 'A'])\n",
    "c.append([3.1, 'A'])\n",
    "c.append([4.5, 'B'])\n",
    "c.append([5.3, 'B'])\n",
    "c.append([5.0, 'B'])\n",
    "c.append([6.6, 'A'])\n",
    "c = np.array(c)\n",
    "c = c[c[:,0].argsort()]\n",
    "\n",
    "d.append([3.4, 'A'])\n",
    "d.append([6.2, 'A'])\n",
    "d.append([2.8, 'B'])\n",
    "d.append([5.8, 'B'])\n",
    "d.append([4.1, 'B'])\n",
    "d.append([3.1, 'A'])\n",
    "d = np.array(d)\n",
    "d = d[d[:,0].argsort()]"
   ]
  },
  {
   "cell_type": "code",
   "execution_count": 52,
   "metadata": {},
   "outputs": [
    {
     "data": {
      "text/plain": [
       "(array([['2.7', 'A'],\n",
       "        ['3.1', 'A'],\n",
       "        ['4.5', 'B'],\n",
       "        ['5.0', 'B'],\n",
       "        ['5.3', 'B'],\n",
       "        ['6.6', 'A']], dtype='<U32'),\n",
       " array([['2.8', 'B'],\n",
       "        ['3.1', 'A'],\n",
       "        ['3.4', 'A'],\n",
       "        ['4.1', 'B'],\n",
       "        ['5.8', 'B'],\n",
       "        ['6.2', 'A']], dtype='<U32'))"
      ]
     },
     "execution_count": 52,
     "metadata": {},
     "output_type": "execute_result"
    }
   ],
   "source": [
    "c,d"
   ]
  },
  {
   "cell_type": "code",
   "execution_count": 139,
   "metadata": {},
   "outputs": [],
   "source": [
    "# c_interval = [0.0, 2.9, 3.9, 4.9, 5.2, 5.9, 6.9]\n",
    "# d_interval = [0.0, 2.9, 3.2, 3.9, 4.9, 5.9, 6.9]\n",
    "c_interval = [0, 2.90, 3.8, 4.75, 5.15, 5.94, 6.8]\n",
    "d_interval = [0, 2.95, 3.25, 3.75, 4.95, 6.0, 6.5]"
   ]
  },
  {
   "cell_type": "code",
   "execution_count": 56,
   "metadata": {},
   "outputs": [
    {
     "data": {
      "text/plain": [
       "array(['2.7', '3.1', '4.5', '5.0', '5.3', '6.6'], dtype='<U32')"
      ]
     },
     "execution_count": 56,
     "metadata": {},
     "output_type": "execute_result"
    }
   ],
   "source": [
    "c[:,0]"
   ]
  },
  {
   "cell_type": "markdown",
   "metadata": {},
   "source": [
    "#### Merge (1) X1"
   ]
  },
  {
   "cell_type": "markdown",
   "metadata": {},
   "source": [
    "Interval: [0, 2.9], [2.9, 3.8]\n",
    "- E11 = 1, E12 ~ 0.1\n",
    "- E21 = 1, E22 ~ 0.1\n",
    "- 0.2 < 2.706 so merge \n",
    "    - [0, 3.8]\n",
    "    \n",
    "Interval: [3.8, 4.75], [4.75, 5.15]\n",
    "- E11 ~ 0.1, E12 = 1\n",
    "- E21 ~ 0.1, E22 = 1\n",
    "- X^2 = (0-0.01^2/0.01) + (1-1)^2/1 + (0-0.01)^/0.01 + (1-1)^2/1 = 0.2 < 2.706 so merge\n",
    "    - [3.8, 5.15]\n",
    "\n",
    "Interval: [5.15, 5.94], [5.94, 6.8]\n",
    "- A11=0, A12=1, R1=1\n",
    "- A21=1, A22=0, R2=1\n",
    "- C1 =1, C2 =1, N =2\n",
    "\n",
    "- E11 = 0.5, E12 = 0.5\n",
    "- E21 = 0.5, E22 = 0.5\n",
    "- X^2 = 0.5 + 0.5 + 0.5 + 0.5 = 2.0 < 2.706 so merge\n",
    "    - [5.15, 6.8]"
   ]
  },
  {
   "cell_type": "markdown",
   "metadata": {},
   "source": [
    "#### Merge (2) X1"
   ]
  },
  {
   "cell_type": "markdown",
   "metadata": {},
   "source": [
    "Interval: [0, 3.8], [3.8, 5.15]\n",
    "- A11=2, A12=0, R1=2\n",
    "- A21=0, A22=2, R2=2\n",
    "- C1 =2, C2 =2, N =4\n",
    "\n",
    "- E11 = 1, E12 = 1\n",
    "- E21 = 1, E22 = 1\n",
    "- X^2 = 1 + 1 + 1 + 1 = 4.0 > 2.706 do not merge\n",
    "    - Intervals remain unmerged\n",
    "    \n",
    "Interval: [3.8, 5.15], [5.15, 6.8]\n",
    "- A11=0, A12=2, R1=2\n",
    "- A21=1, A22=1, R2=3\n",
    "- C1 =1, C2 =3, N =5\n",
    "\n",
    "- E11 = 0.4, E12 = 1.2\n",
    "- E21 = 0.6, E22 = 1.8\n",
    "- X^2 = (0.-0.4)^2/0.4 + (2-1.2)^2/1.2 + (1-0.6)^2/0.6 + (1-1.8)^2/1.8 = 1.555 < 2.706 so merge\n",
    "    - [3.8, 6.8]"
   ]
  },
  {
   "cell_type": "markdown",
   "metadata": {},
   "source": [
    "#### Merge (3) X1"
   ]
  },
  {
   "cell_type": "markdown",
   "metadata": {},
   "source": [
    "Interval: [5.15, 6.8]\n",
    "- A11=0, A12=2, R1=2\n",
    "- A21=1, A22=1, R2=3\n",
    "- C1 =1, C2 =3, N =5\n",
    "\n",
    "- E11 = 0.4, E12 = 1.2\n",
    "- E21 = 0.6, E22 = 1.8\n",
    "- X^2 = (0.-0.4)^2/0.4 + (2-1.2)^2/1.2 + (1-0.6)^2/0.6 + (1-1.8)^2/1.8 = 1.555 < 2.706 so merge\n",
    "    - [3.8, 6.8]"
   ]
  },
  {
   "cell_type": "code",
   "execution_count": 141,
   "metadata": {},
   "outputs": [
    {
     "data": {
      "text/plain": [
       "array([['2.7', 'A'],\n",
       "       ['3.1', 'A'],\n",
       "       ['4.5', 'B'],\n",
       "       ['5.0', 'B'],\n",
       "       ['5.3', 'B'],\n",
       "       ['6.6', 'A']], dtype='<U32')"
      ]
     },
     "execution_count": 141,
     "metadata": {},
     "output_type": "execute_result"
    }
   ],
   "source": [
    "c"
   ]
  },
  {
   "cell_type": "code",
   "execution_count": 147,
   "metadata": {},
   "outputs": [],
   "source": [
    "u = []\n",
    "u.append([2.5, 0])\n",
    "u.append([7.2, 1])\n",
    "u.append([3.4, 1])\n",
    "u.append([5.6, 0])\n",
    "u.append([4.8, 1])\n",
    "u.append([8.1, 0])\n",
    "u.append([6.3, 1])\n",
    "\n",
    "u = np.array(u)\n",
    "u = u[u[:,0].argsort()]"
   ]
  },
  {
   "cell_type": "code",
   "execution_count": 148,
   "metadata": {},
   "outputs": [
    {
     "data": {
      "text/plain": [
       "array([[2.5, 0. ],\n",
       "       [3.4, 1. ],\n",
       "       [4.8, 1. ],\n",
       "       [5.6, 0. ],\n",
       "       [6.3, 1. ],\n",
       "       [7.2, 1. ],\n",
       "       [8.1, 0. ]])"
      ]
     },
     "execution_count": 148,
     "metadata": {},
     "output_type": "execute_result"
    }
   ],
   "source": [
    "u"
   ]
  },
  {
   "cell_type": "code",
   "execution_count": 154,
   "metadata": {},
   "outputs": [
    {
     "data": {
      "text/plain": [
       "7.65"
      ]
     },
     "execution_count": 154,
     "metadata": {},
     "output_type": "execute_result"
    }
   ],
   "source": [
    "(7.2+8.1)/2"
   ]
  },
  {
   "cell_type": "code",
   "execution_count": null,
   "metadata": {},
   "outputs": [],
   "source": [
    "u_interval = [0, 2.95, 4.1, 5.2, 5.95, 6.75, 7.65, 9]"
   ]
  },
  {
   "cell_type": "markdown",
   "metadata": {},
   "source": [
    "#### Merge(1) I1"
   ]
  },
  {
   "cell_type": "markdown",
   "metadata": {},
   "source": [
    "Interval: [0, 2.95], [2.95, 4.1]\n",
    "- A11=1, A12=0, R1=1\n",
    "- A21=0, A22=1, R2=1\n",
    "- C1 =1, C2 =1, N =2\n",
    "\n",
    "- E11 = 0.5, E12 = 0.5\n",
    "- E21 = 0.5, E22 = 0.5\n",
    "- X^2 = 0.5 + 0.5 + 0.5 + 0.5 = 2.0 < 2.706 so merge\n",
    "    - [0, 4.1]\n",
    "    \n",
    "Interval: [2.95, 4.1], [4.1, 5.2]\n",
    "- A11=0, A12=1, R1=1\n",
    "- A21=0, A22=1, R2=1\n",
    "- C1 =0, C2 =2, N =2\n",
    "\n",
    "- E11 = 0.1, E12 = 1\n",
    "- E21 = 0.1, E22 = 1\n",
    "- X^2 = 0 + (0.1)^2/0.1 + 0 + (0.1)^2/0.1 = 0.2 < 2.706 so merge\n",
    "    - [2.95, 5.2]\n",
    "    \n",
    "\n",
    "Interval: [4.1, 5.2], [5.2, 5.95]\n",
    "- A11=0, A12=1, R1=1\n",
    "- A21=1, A22=0, R2=1\n",
    "- C1 =1, C2 =1, N =2\n",
    "\n",
    "- E11 = 0.5, E12 = 0.5\n",
    "- E21 = 0.5, E22 = 0.5\n",
    "- X^2 = 0.5 + 0.5 + 0.5 + 0.5 = 2.0 < 2.706 so merge\n",
    "    - [4.1, 5.95]\n",
    "    \n",
    "Interval: [5.2, 5.95], [5.95, 6.75]\n",
    "- A11=1, A12=0, R1=1\n",
    "- A21=0, A22=1, R2=1\n",
    "- C1 =1, C2 =1, N =2\n",
    "\n",
    "- E11 = 0.5, E12 = 0.5\n",
    "- E21 = 0.5, E22 = 0.5\n",
    "- X^2 = 0.5 + 0.5 + 0.5 + 0.5 = 2.0 < 2.706 so merge\n",
    "    - [5.2, 6.75]\n",
    "\n",
    "Interval: [5.95, 6.75], [6.75, 7.65]\n",
    "- A11=0, A12=1, R1=1\n",
    "- A21=0, A22=1, R2=1\n",
    "- C1 =0, C2 =2, N =2\n",
    "\n",
    "- E11 = 0.1, E12 = 1\n",
    "- E21 = 0.1, E22 = 1\n",
    "- X^2 = 0 + (0.1)^2/0.1 + 0 + (0.1)^2/0.1 = 0.2 < 2.706 so merge\n",
    "    - [5.95, 7.65]\n",
    "    \n",
    "Interval: [6.75, 7.65], [7.65, 9]\n",
    "- A11=0, A12=1, R1=1\n",
    "- A21=1, A22=0, R2=1\n",
    "- C1 =1, C2 =1, N =2\n",
    "\n",
    "- E11 = 0.5, E12 = 0.5\n",
    "- E21 = 0.5, E22 = 0.5\n",
    "- X^2 = 0.5 + 0.5 + 0.5 + 0.5 = 2.0 < 2.706 so merge\n",
    "    - [6.75, 9]"
   ]
  },
  {
   "cell_type": "code",
   "execution_count": 155,
   "metadata": {},
   "outputs": [
    {
     "data": {
      "text/plain": [
       "array([[2.5, 0. ],\n",
       "       [3.4, 1. ],\n",
       "       [4.8, 1. ],\n",
       "       [5.6, 0. ],\n",
       "       [6.3, 1. ],\n",
       "       [7.2, 1. ],\n",
       "       [8.1, 0. ]])"
      ]
     },
     "execution_count": 155,
     "metadata": {},
     "output_type": "execute_result"
    }
   ],
   "source": [
    "u"
   ]
  },
  {
   "cell_type": "code",
   "execution_count": null,
   "metadata": {},
   "outputs": [],
   "source": [
    "u_interval = [0, 2.95, 4.1, 5.2, 5.95, 6.75, 7.65, 9]"
   ]
  },
  {
   "cell_type": "markdown",
   "metadata": {},
   "source": [
    "Interval: [0, 2.95], [2.95, 4.1]\n",
    "- A11=1, A12=0, R1=1\n",
    "- A21=0, A22=1, R2=1\n",
    "- C1 =1, C2 =1, N =2\n",
    "\n",
    "- E11 = 0.5, E12 = 0.5\n",
    "- E21 = 0.5, E22 = 0.5\n",
    "- X^2 = 0.5 + 0.5 + 0.5 + 0.5 = 2.0 < 2.706 so merge\n",
    "    - [0, 4.1]\n",
    "    \n",
    "Interval: [4.1, 5.2], [5.2, 5.95]\n",
    "- A11=0, A12=1, R1=1\n",
    "- A21=1, A22=0, R2=1\n",
    "- C1 =1, C2 =1, N =2\n",
    "\n",
    "- E11 = 0.5, E12 = 0.5\n",
    "- E21 = 0.5, E22 = 0.5\n",
    "- X^2 = 0.5 + 0.5 + 0.5 + 0.5 = 2.0 < 2.706 so merge\n",
    "    - [4.1, 5.95]\n",
    "    \n",
    "\n",
    "Interval: [5.95, 6.75], [6.75, 7.65]\n",
    "- A11=0, A12=1, R1=1\n",
    "- A21=0, A22=1, R2=1\n",
    "- C1 =0, C2 =2, N =2\n",
    "\n",
    "- E11 = 0.1, E12 = 1\n",
    "- E21 = 0.1, E22 = 1\n",
    "- X^2 = 0 + (0.1)^2/0.1 + 0 + (0.1)^2/0.1 = 0.2 < 2.706 so merge\n",
    "    - [5.95, 7.65]\n",
    "    \n",
    "Leaving the final interval [7.65, 9] for later iteration"
   ]
  },
  {
   "cell_type": "code",
   "execution_count": null,
   "metadata": {},
   "outputs": [],
   "source": []
  },
  {
   "cell_type": "code",
   "execution_count": 156,
   "metadata": {},
   "outputs": [
    {
     "data": {
      "text/plain": [
       "array([[2.5, 0. ],\n",
       "       [3.4, 1. ],\n",
       "       [4.8, 1. ],\n",
       "       [5.6, 0. ],\n",
       "       [6.3, 1. ],\n",
       "       [7.2, 1. ],\n",
       "       [8.1, 0. ]])"
      ]
     },
     "execution_count": 156,
     "metadata": {},
     "output_type": "execute_result"
    }
   ],
   "source": [
    "u"
   ]
  },
  {
   "cell_type": "code",
   "execution_count": null,
   "metadata": {},
   "outputs": [],
   "source": [
    "u_interval = [0, 2.95, 4.1, 5.2, 5.95, 6.75, 7.65, 9]"
   ]
  },
  {
   "cell_type": "markdown",
   "metadata": {},
   "source": [
    "#### Merge (2)"
   ]
  },
  {
   "cell_type": "markdown",
   "metadata": {},
   "source": [
    "Interval: [0, 4.1], [4.1, 5.95]\n",
    "- A11=1, A12=1, R1=2\n",
    "- A21=1, A22=1, R2=2\n",
    "- C1 =2, C2 =2, N =4\n",
    "\n",
    "- E11 = 1, E12 = 1\n",
    "- E21 = 1, E22 = 1\n",
    "- X^2 = 1 + 1 + 1 + 1 = 4.0 > 2.706 do not merge\n",
    "    - Intervals remain unmerged\n",
    "   \n",
    "\n",
    "Interval: [5.95, 7.65], [7.65, 9]\n",
    "- A11=0, A12=2, R1=2\n",
    "- A21=1, A22=0, R2=1\n",
    "- C1 =1, C2 =2, N =3\n",
    "\n",
    "- E11 = 0.6666, E12 = 1.3333\n",
    "- E21 = 0.3333, E22 = 0.6666\n",
    "- X^2 = (0-0.6666)^2/0.6666 +(1.0-0.3333)^2/0.3333 + (2.0-1.3333)^2/1.3333 + (0-0.6666)^2/0.6666  \n",
    "    - =3.000 > 2.706 so do not merge\n",
    "    - Intervals remain unmerged"
   ]
  },
  {
   "cell_type": "markdown",
   "metadata": {},
   "source": [
    "#### Merge (3)"
   ]
  },
  {
   "cell_type": "markdown",
   "metadata": {},
   "source": [
    "Interval: [4.1, 5.95], [5.95, 7.65]\n",
    "- A11=1, A12=1, R1=2\n",
    "- A21=0, A22=2, R2=2\n",
    "- C1 =1, C2 =3, N =4\n",
    "\n",
    "- E11 = 0.5, E12 = 1.6666\n",
    "- E21 = 0.5, E22 = 1.6666\n",
    "- X^2 = 0.5 + 0.5 + (0.6666)^/1.6666 + (2.0-1.6666)^2/1.6666  = 1.333 < 2.706 so merge\n",
    "    - [4.1, 7.65]"
   ]
  },
  {
   "cell_type": "markdown",
   "metadata": {},
   "source": [
    "final interval: [0, 4.1], [4.1, 7.65], [7.65, 9]\n"
   ]
  },
  {
   "cell_type": "code",
   "execution_count": null,
   "metadata": {},
   "outputs": [],
   "source": [
    "2.05, 5.875, 8.325"
   ]
  },
  {
   "cell_type": "code",
   "execution_count": 159,
   "metadata": {},
   "outputs": [
    {
     "data": {
      "text/plain": [
       "8.325"
      ]
     },
     "execution_count": 159,
     "metadata": {},
     "output_type": "execute_result"
    }
   ],
   "source": [
    "ss.mean([7.65, 9])"
   ]
  },
  {
   "cell_type": "code",
   "execution_count": 70,
   "metadata": {},
   "outputs": [
    {
     "name": "stdout",
     "output_type": "stream",
     "text": [
      "2.95\n",
      "3.25\n",
      "3.75\n",
      "4.949999999999999\n",
      "6.0\n"
     ]
    }
   ],
   "source": [
    "# for i in range(0, len(c)-1):\n",
    "#     print((float(d[:,0][i]) + float(d[:,0][i+1]))/2)"
   ]
  },
  {
   "cell_type": "code",
   "execution_count": 63,
   "metadata": {},
   "outputs": [
    {
     "data": {
      "text/plain": [
       "2.9000000000000004"
      ]
     },
     "execution_count": 63,
     "metadata": {},
     "output_type": "execute_result"
    }
   ],
   "source": []
  },
  {
   "cell_type": "markdown",
   "metadata": {},
   "source": [
    "## 3.12"
   ]
  },
  {
   "cell_type": "code",
   "execution_count": 77,
   "metadata": {},
   "outputs": [],
   "source": [
    "import statistics as ss"
   ]
  },
  {
   "cell_type": "code",
   "execution_count": 72,
   "metadata": {},
   "outputs": [
    {
     "data": {
      "text/plain": [
       "[1, 1, 2, 2, 2, 3, 4, 4, 6, 6]"
      ]
     },
     "execution_count": 72,
     "metadata": {},
     "output_type": "execute_result"
    }
   ],
   "source": [
    "sorted([4,2,1,6,4,3,1,6,2,2])"
   ]
  },
  {
   "cell_type": "code",
   "execution_count": 73,
   "metadata": {},
   "outputs": [],
   "source": [
    "bin1, bin2, bin3 = [1, 1, 2], [2, 2, 3], [4, 4, 6, 6]"
   ]
  },
  {
   "cell_type": "code",
   "execution_count": 83,
   "metadata": {},
   "outputs": [
    {
     "data": {
      "text/plain": [
       "1.3333333333333333"
      ]
     },
     "execution_count": 83,
     "metadata": {},
     "output_type": "execute_result"
    }
   ],
   "source": [
    "ss.mean(bin1)"
   ]
  },
  {
   "cell_type": "code",
   "execution_count": 91,
   "metadata": {},
   "outputs": [],
   "source": [
    "error = 0.0\n",
    "error1 = [abs(x - ss.mean(bin1)) for x in bin1]\n",
    "error2 = [abs(x - ss.mean(bin2)) for x in bin2]\n",
    "error3 = [abs(x - ss.mean(bin3)) for x in bin3]"
   ]
  },
  {
   "cell_type": "code",
   "execution_count": 97,
   "metadata": {},
   "outputs": [
    {
     "data": {
      "text/plain": [
       "([0.33333333333333326, 0.33333333333333326, 0.6666666666666667],\n",
       " [0.3333333333333335, 0.3333333333333335, 0.6666666666666665],\n",
       " [1, 1, 1, 1])"
      ]
     },
     "execution_count": 97,
     "metadata": {},
     "output_type": "execute_result"
    }
   ],
   "source": [
    "error1, error2, error3"
   ]
  },
  {
   "cell_type": "code",
   "execution_count": 92,
   "metadata": {},
   "outputs": [
    {
     "data": {
      "text/plain": [
       "6.666666666666667"
      ]
     },
     "execution_count": 92,
     "metadata": {},
     "output_type": "execute_result"
    }
   ],
   "source": [
    "sum(error1) + sum(error2) + sum(error3)"
   ]
  },
  {
   "cell_type": "code",
   "execution_count": null,
   "metadata": {},
   "outputs": [],
   "source": []
  },
  {
   "cell_type": "code",
   "execution_count": 132,
   "metadata": {},
   "outputs": [],
   "source": [
    "bin1, bin2, bin3 = [1, 1, 2], [2, 2, 3, 4], [4, 6, 6]"
   ]
  },
  {
   "cell_type": "code",
   "execution_count": 133,
   "metadata": {},
   "outputs": [],
   "source": [
    "error = 0.0\n",
    "error1 = [abs(x - ss.mean(bin1)) for x in bin1]\n",
    "error2 = [abs(x - ss.mean(bin2)) for x in bin2]\n",
    "error3 = [abs(x - ss.mean(bin3)) for x in bin3]"
   ]
  },
  {
   "cell_type": "code",
   "execution_count": 134,
   "metadata": {},
   "outputs": [],
   "source": [
    "# error1, error2, error3"
   ]
  },
  {
   "cell_type": "code",
   "execution_count": 135,
   "metadata": {},
   "outputs": [
    {
     "data": {
      "text/plain": [
       "7.0"
      ]
     },
     "execution_count": 135,
     "metadata": {},
     "output_type": "execute_result"
    }
   ],
   "source": [
    "sum(error1) + sum(error2) + sum(error3)"
   ]
  },
  {
   "cell_type": "code",
   "execution_count": null,
   "metadata": {},
   "outputs": [],
   "source": []
  },
  {
   "cell_type": "code",
   "execution_count": 127,
   "metadata": {},
   "outputs": [],
   "source": [
    "bin11, bin22, bin33 = [1, 1, 2, 2], [2, 3, 4, 4], [6, 6]"
   ]
  },
  {
   "cell_type": "code",
   "execution_count": 128,
   "metadata": {},
   "outputs": [],
   "source": [
    "error = 0.0\n",
    "error11 = [abs(x - ss.mean(bin11)) for x in bin11]\n",
    "error22 = [abs(x - ss.mean(bin22)) for x in bin22]\n",
    "error33 = [abs(x - ss.mean(bin33)) for x in bin33]"
   ]
  },
  {
   "cell_type": "code",
   "execution_count": 129,
   "metadata": {},
   "outputs": [],
   "source": [
    "# error11, error22, error33"
   ]
  },
  {
   "cell_type": "code",
   "execution_count": 130,
   "metadata": {},
   "outputs": [
    {
     "data": {
      "text/plain": [
       "5.0"
      ]
     },
     "execution_count": 130,
     "metadata": {},
     "output_type": "execute_result"
    }
   ],
   "source": [
    "sum(error11) + sum(error22) + sum(error33)"
   ]
  },
  {
   "cell_type": "code",
   "execution_count": 131,
   "metadata": {},
   "outputs": [
    {
     "data": {
      "text/plain": [
       "(1.5, 3.5, 6.0)"
      ]
     },
     "execution_count": 131,
     "metadata": {},
     "output_type": "execute_result"
    }
   ],
   "source": [
    "ss.median(bin11), ss.median(bin22), ss.median(bin33)"
   ]
  },
  {
   "cell_type": "code",
   "execution_count": null,
   "metadata": {},
   "outputs": [],
   "source": []
  },
  {
   "cell_type": "code",
   "execution_count": null,
   "metadata": {},
   "outputs": [],
   "source": []
  }
 ],
 "metadata": {
  "kernelspec": {
   "display_name": "Python 3",
   "language": "python",
   "name": "python3"
  },
  "language_info": {
   "codemirror_mode": {
    "name": "ipython",
    "version": 3
   },
   "file_extension": ".py",
   "mimetype": "text/x-python",
   "name": "python",
   "nbconvert_exporter": "python",
   "pygments_lexer": "ipython3",
   "version": "3.8.5"
  }
 },
 "nbformat": 4,
 "nbformat_minor": 4
}
