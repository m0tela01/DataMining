{
 "cells": [
  {
   "cell_type": "code",
   "execution_count": 1,
   "metadata": {},
   "outputs": [],
   "source": [
    "import numpy as np\n",
    "import math\n",
    "import pandas as pd\n",
    "import matplotlib.pyplot as plt\n",
    "import seaborn as sns\n",
    "sns.set()#set_style(\"dark\")"
   ]
  },
  {
   "cell_type": "code",
   "execution_count": 3,
   "metadata": {},
   "outputs": [],
   "source": [
    "a = []\n",
    "a.append([2.5, 1.6, 5.9])\n",
    "a.append([7.2, 4.3, 2.1])\n",
    "a.append([3.4, 5.8, 1.6])\n",
    "a.append([5.6, 3.6, 6.8])\n",
    "a.append([4.8, 7.2, 3.1])\n",
    "a.append([8.1, 4.9, 8.3])\n",
    "a.append([6.3, 4.8, 2.4])\n",
    "a = np.array(a)"
   ]
  },
  {
   "cell_type": "code",
   "execution_count": 4,
   "metadata": {},
   "outputs": [],
   "source": [
    "targs = [0,1,1,0,1,0,1]"
   ]
  },
  {
   "cell_type": "code",
   "execution_count": 5,
   "metadata": {},
   "outputs": [
    {
     "data": {
      "text/plain": [
       "array([[2.5, 1.6, 5.9],\n",
       "       [7.2, 4.3, 2.1],\n",
       "       [3.4, 5.8, 1.6],\n",
       "       [5.6, 3.6, 6.8],\n",
       "       [4.8, 7.2, 3.1],\n",
       "       [8.1, 4.9, 8.3],\n",
       "       [6.3, 4.8, 2.4]])"
      ]
     },
     "execution_count": 5,
     "metadata": {},
     "output_type": "execute_result"
    }
   ],
   "source": [
    "a"
   ]
  },
  {
   "cell_type": "code",
   "execution_count": 6,
   "metadata": {},
   "outputs": [
    {
     "data": {
      "text/plain": [
       "array([5.9, 2.1, 1.6, 6.8, 3.1, 8.3, 2.4])"
      ]
     },
     "execution_count": 6,
     "metadata": {},
     "output_type": "execute_result"
    }
   ],
   "source": [
    "a[:,2]"
   ]
  },
  {
   "cell_type": "code",
   "execution_count": 7,
   "metadata": {},
   "outputs": [
    {
     "data": {
      "text/plain": [
       "1.6"
      ]
     },
     "execution_count": 7,
     "metadata": {},
     "output_type": "execute_result"
    }
   ],
   "source": [
    "a[:,1][0]"
   ]
  },
  {
   "cell_type": "code",
   "execution_count": 8,
   "metadata": {},
   "outputs": [],
   "source": [
    "A0 = []\n",
    "B0 = []\n",
    "\n",
    "A1 = []\n",
    "B1 = []\n",
    "\n",
    "A2 = []\n",
    "B2 = []\n",
    "\n",
    "for i, targ in enumerate(targs):\n",
    "    if targ == 0:\n",
    "        A0.append(a[:,0][i])\n",
    "        A1.append(a[:,1][i])\n",
    "        A2.append(a[:,2][i])\n",
    "    else:\n",
    "        B0.append(a[:,0][i])\n",
    "        B1.append(a[:,1][i])\n",
    "        B2.append(a[:,2][i])"
   ]
  },
  {
   "cell_type": "code",
   "execution_count": null,
   "metadata": {},
   "outputs": [],
   "source": []
  },
  {
   "cell_type": "code",
   "execution_count": 9,
   "metadata": {},
   "outputs": [
    {
     "data": {
      "text/plain": [
       "[7.427485026503828, 2.249249097997478, 0.016577179105925148]"
      ]
     },
     "execution_count": 9,
     "metadata": {},
     "output_type": "execute_result"
    }
   ],
   "source": [
    "varA0, varB0 = np.var(A0), np.var(B0)\n",
    "varA1, varB1 = np.var(A1), np.var(B1)\n",
    "varA2, varB2 = np.var(A2), np.var(B2)\n",
    "\n",
    "r0 = (varA0/len(A0)) + (varB0/len(B0))\n",
    "r1 = (varA1/len(A1)) + (varB1/len(B1))\n",
    "r2 = (varA2/len(A2)) + (varB2/len(B2))\n",
    "\n",
    "SE0 = math.sqrt(r0)\n",
    "SE1 = math.sqrt(r1)\n",
    "SE2 = math.sqrt(r2)\n",
    "\n",
    "s0 =  abs(np.array(A0).mean() - np.array(B0).mean())\n",
    "s1 =  abs(np.array(A1).mean() - np.array(B1).mean())\n",
    "s2 =  abs(np.array(A2).mean() - np.array(B2).mean())\n",
    "\n",
    "rank0 = s0/SE0\n",
    "rank1 = s1/SE1\n",
    "rank2 = s2/SE2\n",
    "\n",
    "sorted([rank0, rank1, rank2], reverse=True)"
   ]
  },
  {
   "cell_type": "markdown",
   "metadata": {},
   "source": [
    "## Relief"
   ]
  },
  {
   "cell_type": "code",
   "execution_count": 38,
   "metadata": {},
   "outputs": [],
   "source": [
    "b = []\n",
    "b.append([2.7, 3.4, 1])\n",
    "b.append([3.1, 6.2, 2])\n",
    "b.append([4.5, 2.8, 1])\n",
    "b.append([5.3, 5.8, 2])\n",
    "b.append([6.6, 3.1, 1])\n",
    "b.append([5.0, 4.1, 2])\n",
    "# b = np.array(b)"
   ]
  },
  {
   "cell_type": "code",
   "execution_count": 39,
   "metadata": {},
   "outputs": [],
   "source": [
    "b = []\n",
    "b.append([2.7, 3.4, 1, 'A'])\n",
    "b.append([3.1, 6.2, 2, 'A'])\n",
    "b.append([4.5, 2.8, 1, 'B'])\n",
    "b.append([5.3, 5.8, 2, 'B'])\n",
    "b.append([6.6, 3.1, 1, 'A'])\n",
    "b.append([5.0, 4.1, 2, 'B'])"
   ]
  },
  {
   "cell_type": "code",
   "execution_count": 20,
   "metadata": {},
   "outputs": [],
   "source": [
    "targets = ['A','A','B','B','A','B']"
   ]
  },
  {
   "cell_type": "code",
   "execution_count": 19,
   "metadata": {},
   "outputs": [
    {
     "data": {
      "text/plain": [
       "array([[2.7, 3.4, 1. ],\n",
       "       [3.1, 6.2, 2. ],\n",
       "       [4.5, 2.8, 1. ],\n",
       "       [5.3, 5.8, 2. ],\n",
       "       [6.6, 3.1, 1. ],\n",
       "       [5. , 4.1, 2. ]])"
      ]
     },
     "execution_count": 19,
     "metadata": {},
     "output_type": "execute_result"
    }
   ],
   "source": [
    "b"
   ]
  },
  {
   "cell_type": "code",
   "execution_count": 16,
   "metadata": {},
   "outputs": [
    {
     "data": {
      "text/plain": [
       "[0, 1, 2]"
      ]
     },
     "execution_count": 16,
     "metadata": {},
     "output_type": "execute_result"
    }
   ],
   "source": [
    "list(range(0,3))"
   ]
  },
  {
   "cell_type": "code",
   "execution_count": 40,
   "metadata": {},
   "outputs": [],
   "source": [
    "def distance(a, b):\n",
    "    x1, y1, z1 = a[0], a[1], a[2]\n",
    "    x2, y2, z2 = b[0], b[1], b[2]\n",
    "    d = math.sqrt(math.pow((x2 - x1), 2) + math.pow((y2 - y1),2) + math.pow((z2 - z1), 2))/2\n",
    "    return d"
   ]
  },
  {
   "cell_type": "code",
   "execution_count": 41,
   "metadata": {},
   "outputs": [],
   "source": [
    "def qualityScore(X, H, M, m):\n",
    "    quality = (-math.pow((X-H), 2) + math.pow((X-M), 2))/m\n",
    "    return quality"
   ]
  },
  {
   "cell_type": "code",
   "execution_count": 42,
   "metadata": {},
   "outputs": [],
   "source": [
    "def relief(b):\n",
    "    Wajs = []\n",
    "    for m, sample in enumerate(b):\n",
    "        Waj = 0.0\n",
    "        nearestH = []\n",
    "        nearestM = []\n",
    "\n",
    "        hits = []\n",
    "        misses = []\n",
    "\n",
    "        distsH = []\n",
    "        distsM = []\n",
    "\n",
    "        Xclass = targets[m]\n",
    "        samplesMinusX = b.copy()\n",
    "        samplesMinusX.remove(sample)\n",
    "\n",
    "        for sample2 in samplesMinusX:\n",
    "            if sample[len(sample)-1] == sample2[len(sample2)-1]:\n",
    "                hits.append(sample2)\n",
    "                distsH.append(distance(sample, sample2))\n",
    "            else:\n",
    "                misses.append(sample2)\n",
    "                distsM.append(distance(sample, sample2))\n",
    "\n",
    "\n",
    "        nearestH = hits[min(range(len(distsH)), key=distsH.__getitem__)]\n",
    "        nearestM = misses[min(range(len(distsM)), key=distsM.__getitem__)]\n",
    "\n",
    "\n",
    "        ## feature wise quality update \n",
    "        for i in range(0,3):\n",
    "            Waj += qualityScore(sample[i], nearestH[i], nearestM[i], m+1)\n",
    "\n",
    "        Wajs.append(Waj)\n",
    "        print(m)\n",
    "    return Wajs"
   ]
  },
  {
   "cell_type": "code",
   "execution_count": 43,
   "metadata": {},
   "outputs": [
    {
     "name": "stdout",
     "output_type": "stream",
     "text": [
      "0\n",
      "1\n",
      "2\n",
      "3\n",
      "4\n",
      "5\n"
     ]
    },
    {
     "data": {
      "text/plain": [
       "[-5.400000000000002,\n",
       " -2.0000000000000013,\n",
       " 0.22000000000000003,\n",
       " 0.5049999999999997,\n",
       " -2.1599999999999993,\n",
       " 0.26999999999999974]"
      ]
     },
     "execution_count": 43,
     "metadata": {},
     "output_type": "execute_result"
    }
   ],
   "source": [
    "relief(b)"
   ]
  },
  {
   "cell_type": "code",
   "execution_count": 35,
   "metadata": {},
   "outputs": [],
   "source": [
    "        \n",
    "samplesMinusX = b.copy()\n",
    "samplesMinusX.remove(b[0])"
   ]
  },
  {
   "cell_type": "code",
   "execution_count": 36,
   "metadata": {},
   "outputs": [
    {
     "data": {
      "text/plain": [
       "[[3.1, 6.2, 2], [4.5, 2.8, 1], [5.3, 5.8, 2], [6.6, 3.1, 1], [5.0, 4.1, 2]]"
      ]
     },
     "execution_count": 36,
     "metadata": {},
     "output_type": "execute_result"
    }
   ],
   "source": [
    "samplesMinusX"
   ]
  },
  {
   "cell_type": "code",
   "execution_count": 45,
   "metadata": {},
   "outputs": [
    {
     "data": {
      "text/plain": [
       "'A'"
      ]
     },
     "execution_count": 45,
     "metadata": {},
     "output_type": "execute_result"
    }
   ],
   "source": [
    "b[0][len(b[0])-1]"
   ]
  },
  {
   "cell_type": "code",
   "execution_count": null,
   "metadata": {},
   "outputs": [],
   "source": []
  }
 ],
 "metadata": {
  "kernelspec": {
   "display_name": "Python 3",
   "language": "python",
   "name": "python3"
  },
  "language_info": {
   "codemirror_mode": {
    "name": "ipython",
    "version": 3
   },
   "file_extension": ".py",
   "mimetype": "text/x-python",
   "name": "python",
   "nbconvert_exporter": "python",
   "pygments_lexer": "ipython3",
   "version": "3.8.5"
  }
 },
 "nbformat": 4,
 "nbformat_minor": 4
}
